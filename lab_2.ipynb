{
 "cells": [
  {
   "cell_type": "code",
   "execution_count": 1,
   "id": "379d4459",
   "metadata": {},
   "outputs": [],
   "source": [
    "import math\n",
    "import numpy as np\n",
    "import gurobipy as gp\n",
    "from gurobipy import GRB, quicksum as qsum"
   ]
  },
  {
   "cell_type": "code",
   "execution_count": 30,
   "id": "75d65d47",
   "metadata": {},
   "outputs": [],
   "source": [
    "k = 6  # k - номер студента по списку\n",
    "l = 1  # l - номер группы\n",
    "\n",
    "n = 10 + math.floor(k/4.0)\n",
    "m = 30 - math.floor(k/4.0)\n",
    "\n",
    "A = np.array([\n",
    "        np.array([\n",
    "            -k + ((1451*i + 1571*j + 2081*k + 2543*l) % (30 + math.floor(k/5.0)))\n",
    "            for j in range(1, n + 1)\n",
    "        ])\n",
    "        for i in range(1, m + 1)\n",
    "    ])\n",
    "\n",
    "A = np.array(A)"
   ]
  },
  {
   "cell_type": "code",
   "execution_count": 7,
   "id": "494f1cbc",
   "metadata": {},
   "outputs": [
    {
     "data": {
      "text/plain": [
       "(29, 11)"
      ]
     },
     "execution_count": 7,
     "metadata": {},
     "output_type": "execute_result"
    }
   ],
   "source": [
    "A.shape"
   ]
  },
  {
   "cell_type": "code",
   "execution_count": 99,
   "id": "7cb00cbf",
   "metadata": {},
   "outputs": [
    {
     "name": "stdout",
     "output_type": "stream",
     "text": [
      "Минимальный элемент: -6\n",
      "Технологическая матрица:\n",
      "[[10 31 21 11  1 22 12  2 23 13  3]\n",
      " [ 4 25 15  5 26 16  6 27 17  7 28]\n",
      " [29 19  9 30 20 10 31 21 11  1 22]\n",
      " [23 13  3 24 14  4 25 15  5 26 16]\n",
      " [17  7 28 18  8 29 19  9 30 20 10]\n",
      " [11  1 22 12  2 23 13  3 24 14  4]\n",
      " [ 5 26 16  6 27 17  7 28 18  8 29]\n",
      " [30 20 10 31 21 11  1 22 12  2 23]\n",
      " [24 14  4 25 15  5 26 16  6 27 17]\n",
      " [18  8 29 19  9 30 20 10 31 21 11]\n",
      " [12  2 23 13  3 24 14  4 25 15  5]\n",
      " [ 6 27 17  7 28 18  8 29 19  9 30]\n",
      " [31 21 11  1 22 12  2 23 13  3 24]\n",
      " [25 15  5 26 16  6 27 17  7 28 18]\n",
      " [19  9 30 20 10 31 21 11  1 22 12]\n",
      " [13  3 24 14  4 25 15  5 26 16  6]\n",
      " [ 7 28 18  8 29 19  9 30 20 10 31]\n",
      " [ 1 22 12  2 23 13  3 24 14  4 25]\n",
      " [26 16  6 27 17  7 28 18  8 29 19]\n",
      " [20 10 31 21 11  1 22 12  2 23 13]\n",
      " [14  4 25 15  5 26 16  6 27 17  7]\n",
      " [ 8 29 19  9 30 20 10 31 21 11  1]\n",
      " [ 2 23 13  3 24 14  4 25 15  5 26]\n",
      " [27 17  7 28 18  8 29 19  9 30 20]\n",
      " [21 11  1 22 12  2 23 13  3 24 14]\n",
      " [15  5 26 16  6 27 17  7 28 18  8]\n",
      " [ 9 30 20 10 31 21 11  1 22 12  2]\n",
      " [ 3 24 14  4 25 15  5 26 16  6 27]\n",
      " [28 18  8 29 19  9 30 20 10 31 21]]\n"
     ]
    }
   ],
   "source": [
    "minimum = A[0][0]\n",
    "for i in range(A.shape[0]):\n",
    "    for j in range(A.shape[1]):\n",
    "        if A[i][j] < minimum:\n",
    "            minimum = A[i][j]\n",
    "print('Минимальный элемент:', minimum)\n",
    "alpha = 0\n",
    "if minimum <= 0:\n",
    "    alpha = -minimum + 1\n",
    "print('Технологическая матрица:')\n",
    "print(A + alpha)"
   ]
  },
  {
   "cell_type": "code",
   "execution_count": 94,
   "id": "5389e2aa",
   "metadata": {},
   "outputs": [],
   "source": [
    "def runner(A):\n",
    "#     A = A.T\n",
    "    m = len(A)\n",
    "    n = len(A[0])\n",
    "    b = np.array([1 for _ in range(m)])\n",
    "    c = np.array([1 for _ in range(n)])\n",
    "    \n",
    "    \n",
    "    # решение в чистых стратегиях\n",
    "    minmax = min([max(A.T[i]) for i in range(n)])\n",
    "    maxmin = max([min(A[i]) for i in range(m)])\n",
    "    print('minmax:', minmax)\n",
    "    print('maxmin:', maxmin)\n",
    "    \n",
    "    if minmax == maxmin:\n",
    "        print('Решение в чистых стратегиях: ')\n",
    "        for i in range(n):\n",
    "            if max(A.T[i]) == minmax:\n",
    "                print('i =', i)\n",
    "                break\n",
    "        for j in range(m):\n",
    "            if max(A[j]) == maxmin:\n",
    "                print('j =', j)\n",
    "                break\n",
    "        return\n",
    "    else:\n",
    "        print('Решений в чистых стратегий нет')\n",
    "    \n",
    "    \n",
    "    # все элементы матрицы делаем положительными\n",
    "    minimum = A[0][0]\n",
    "    for i in range(A.shape[0]):\n",
    "        for j in range(A.shape[1]):\n",
    "            if A[i][j] < minimum:\n",
    "                minimum = A[i][j]\n",
    "    alpha = 0\n",
    "    if minimum <= 0:\n",
    "        alpha = -minimum + 1\n",
    "    A = A + alpha\n",
    "    \n",
    "    \n",
    "    model = gp.Model()\n",
    "    \n",
    "    # задание переменных\n",
    "    model.addMVar(len(c), lb=[0.0 for _ in range(len(c))], vtype=GRB.CONTINUOUS, name='x')\n",
    "    model.update()\n",
    "    x = gp.MVar(model.getVars())\n",
    "    \n",
    "    # задание оптимизационного критерия\n",
    "    model.setObjective(c.T @ x, GRB.MINIMIZE)\n",
    "    \n",
    "    model.addConstr(A @ x >= b)\n",
    "    \n",
    "    # оптимизация\n",
    "    model.optimize()\n",
    "\n",
    "    # вывод результатов\n",
    "    x_star = []\n",
    "    for v in model.getVars():\n",
    "        x_star += [v.x]\n",
    "    v_star = 1.0 / model.ObjVal\n",
    "    v_star_real = v_star - alpha\n",
    "    print('alpha: ' + str(alpha))\n",
    "    print('v_star: ' + str(v_star_real))\n",
    "    x_normal = [v_star*x for x in x_star]\n",
    "    print('x_star: ' + str(x_normal))\n",
    "    print('sum of x_star: ' + str(sum(x_normal)))"
   ]
  },
  {
   "cell_type": "code",
   "execution_count": 95,
   "id": "51c3b09c",
   "metadata": {},
   "outputs": [
    {
     "name": "stdout",
     "output_type": "stream",
     "text": [
      "minmax: 24\n",
      "maxmin: 1\n",
      "Решений в чистых стратегий нет\n",
      "Gurobi Optimizer version 9.5.1 build v9.5.1rc2 (win64)\n",
      "Thread count: 8 physical cores, 8 logical processors, using up to 8 threads\n",
      "Optimize a model with 29 rows, 11 columns and 319 nonzeros\n",
      "Model fingerprint: 0xf886c3a7\n",
      "Coefficient statistics:\n",
      "  Matrix range     [1e+00, 3e+01]\n",
      "  Objective range  [1e+00, 1e+00]\n",
      "  Bounds range     [0e+00, 0e+00]\n",
      "  RHS range        [1e+00, 1e+00]\n",
      "Presolve time: 0.01s\n",
      "Presolved: 29 rows, 11 columns, 319 nonzeros\n",
      "\n",
      "Iteration    Objective       Primal Inf.    Dual Inf.      Time\n",
      "       0    0.0000000e+00   3.625000e+00   0.000000e+00      0s\n",
      "      11    7.3985680e-02   0.000000e+00   0.000000e+00      0s\n",
      "\n",
      "Solved in 11 iterations and 0.02 seconds (0.00 work units)\n",
      "Optimal objective  7.398568019e-02\n",
      "alpha: 7\n",
      "v_star: 6.516129032258066\n",
      "x_star: [0.03225806451612902, 0.032258064516129045, 0.03225806451612886, 0.0322580645161292, 0.03225806451612901, 0.03225806451612904, 0.03225806451612899, 0.03225806451612901, 0.2580645161290323, 0.25806451612903236, 0.22580645161290325]\n",
      "sum of x_star: 1.0\n"
     ]
    }
   ],
   "source": [
    "runner(A)"
   ]
  },
  {
   "cell_type": "code",
   "execution_count": 96,
   "id": "c1aa3c68",
   "metadata": {},
   "outputs": [
    {
     "name": "stdout",
     "output_type": "stream",
     "text": [
      "minmax: 6\n",
      "maxmin: -17\n",
      "Решений в чистых стратегий нет\n",
      "Gurobi Optimizer version 9.5.1 build v9.5.1rc2 (win64)\n",
      "Thread count: 8 physical cores, 8 logical processors, using up to 8 threads\n",
      "Optimize a model with 29 rows, 11 columns and 319 nonzeros\n",
      "Model fingerprint: 0x67f165b6\n",
      "Coefficient statistics:\n",
      "  Matrix range     [1e+00, 3e+01]\n",
      "  Objective range  [1e+00, 1e+00]\n",
      "  Bounds range     [0e+00, 0e+00]\n",
      "  RHS range        [1e+00, 1e+00]\n",
      "Presolve time: 0.01s\n",
      "Presolved: 29 rows, 11 columns, 319 nonzeros\n",
      "\n",
      "Iteration    Objective       Primal Inf.    Dual Inf.      Time\n",
      "       0    0.0000000e+00   3.625000e+00   0.000000e+00      0s\n",
      "      11    7.3985680e-02   0.000000e+00   0.000000e+00      0s\n",
      "\n",
      "Solved in 11 iterations and 0.01 seconds (0.00 work units)\n",
      "Optimal objective  7.398568019e-02\n",
      "alpha: 25\n",
      "v_star: -11.483870967741932\n",
      "x_star: [0.22580645161290322, 0.2580645161290323, 0.2580645161290323, 0.03225806451612904, 0.03225806451612903, 0.03225806451612905, 0.032258064516129, 0.032258064516129045, 0.03225806451612901, 0.03225806451612917, 0.03225806451612902]\n",
      "sum of x_star: 1.0\n"
     ]
    }
   ],
   "source": [
    "runner(-A)"
   ]
  },
  {
   "cell_type": "code",
   "execution_count": 97,
   "id": "c60bcf0d",
   "metadata": {},
   "outputs": [
    {
     "name": "stdout",
     "output_type": "stream",
     "text": [
      "minmax: 4498\n",
      "maxmin: 1443\n",
      "Решений в чистых стратегий нет\n",
      "Gurobi Optimizer version 9.5.1 build v9.5.1rc2 (win64)\n",
      "Thread count: 8 physical cores, 8 logical processors, using up to 8 threads\n",
      "Optimize a model with 11 rows, 11 columns and 121 nonzeros\n",
      "Model fingerprint: 0xdb05c25c\n",
      "Coefficient statistics:\n",
      "  Matrix range     [1e+03, 5e+03]\n",
      "  Objective range  [1e+00, 1e+00]\n",
      "  Bounds range     [0e+00, 0e+00]\n",
      "  RHS range        [1e+00, 1e+00]\n",
      "Presolve time: 0.01s\n",
      "Presolved: 11 rows, 11 columns, 121 nonzeros\n",
      "\n",
      "Iteration    Objective       Primal Inf.    Dual Inf.      Time\n",
      "       0    0.0000000e+00   1.718750e-01   0.000000e+00      0s\n",
      "      11    4.0649505e-04   0.000000e+00   0.000000e+00      0s\n",
      "\n",
      "Solved in 11 iterations and 0.02 seconds (0.00 work units)\n",
      "Optimal objective  4.064950482e-04\n",
      "alpha: 0\n",
      "v_star: 2460.0545677498467\n",
      "x_star: [0.12903225806451613, 0.09946401376555074, 0.11789719348905245, 0.03225806451612907, 0.032258064516129045, 0.032258064516129774, 0.03225806451612897, 0.03225806451612858, 0.1908585668796103, 0.1724253871561085, 0.12903225806451643]\n",
      "sum of x_star: 1.0\n"
     ]
    }
   ],
   "source": [
    "runner(np.dot(A.T, A))"
   ]
  }
 ],
 "metadata": {
  "kernelspec": {
   "display_name": "Python 3",
   "language": "python",
   "name": "python3"
  },
  "language_info": {
   "codemirror_mode": {
    "name": "ipython",
    "version": 3
   },
   "file_extension": ".py",
   "mimetype": "text/x-python",
   "name": "python",
   "nbconvert_exporter": "python",
   "pygments_lexer": "ipython3",
   "version": "3.8.8"
  },
  "latex_envs": {
   "LaTeX_envs_menu_present": true,
   "autoclose": false,
   "autocomplete": true,
   "bibliofile": "biblio.bib",
   "cite_by": "apalike",
   "current_citInitial": 1,
   "eqLabelWithNumbers": true,
   "eqNumInitial": 1,
   "hotkeys": {
    "equation": "Ctrl-E",
    "itemize": "Ctrl-I"
   },
   "labels_anchors": false,
   "latex_user_defs": false,
   "report_style_numbering": false,
   "user_envs_cfg": false
  },
  "toc": {
   "base_numbering": 1,
   "nav_menu": {},
   "number_sections": true,
   "sideBar": true,
   "skip_h1_title": false,
   "title_cell": "Table of Contents",
   "title_sidebar": "Contents",
   "toc_cell": false,
   "toc_position": {},
   "toc_section_display": true,
   "toc_window_display": false
  }
 },
 "nbformat": 4,
 "nbformat_minor": 5
}
